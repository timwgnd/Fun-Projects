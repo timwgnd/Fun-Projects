{
 "cells": [
  {
   "cell_type": "code",
   "execution_count": 1,
   "metadata": {},
   "outputs": [],
   "source": [
    "import numpy as np\n",
    "import time"
   ]
  },
  {
   "cell_type": "code",
   "execution_count": 2,
   "metadata": {},
   "outputs": [
    {
     "name": "stdout",
     "output_type": "stream",
     "text": [
      "249786.877\n",
      "Time of vectorized version:  3.995 ms\n",
      "249786.877\n",
      "Time of for loop:  563.244 ms\n"
     ]
    }
   ],
   "source": [
    "# vectorization leads to faster calculation time in comparison to for loop\n",
    "\n",
    "# vectors a and b each contain one million randomly assigned values\n",
    "a = np.random.rand(1000000)\n",
    "b = np.random.rand(1000000)\n",
    "\n",
    "# calculation time of dot product of a and b\n",
    "tic = time.time()\n",
    "c = np.dot(a, b)\n",
    "toc = time.time()\n",
    "\n",
    "print(round(c, 3))\n",
    "print(\"Time of vectorized version: \", round(1000 * (toc - tic), 3), \"ms\")\n",
    "\n",
    "# calculation time of manual dot product using a for loop\n",
    "c = 0\n",
    "tic = time.time()\n",
    "for i in range (0, 1000000):\n",
    "    c = c + (a[i] * b[i])\n",
    "toc = time.time()\n",
    "\n",
    "print(round(c, 3))\n",
    "print(\"Time of for loop: \", round(1000 * (toc - tic), 3), \"ms\")"
   ]
  }
 ],
 "metadata": {
  "kernelspec": {
   "display_name": "Python 3 (ipykernel)",
   "language": "python",
   "name": "python3"
  },
  "language_info": {
   "codemirror_mode": {
    "name": "ipython",
    "version": 3
   },
   "file_extension": ".py",
   "mimetype": "text/x-python",
   "name": "python",
   "nbconvert_exporter": "python",
   "pygments_lexer": "ipython3",
   "version": "3.9.7"
  }
 },
 "nbformat": 4,
 "nbformat_minor": 2
}
